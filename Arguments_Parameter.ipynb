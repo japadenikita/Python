{
  "nbformat": 4,
  "nbformat_minor": 0,
  "metadata": {
    "colab": {
      "provenance": [],
      "authorship_tag": "ABX9TyPDKAG7q3l8jiiOghexFyzh",
      "include_colab_link": true
    },
    "kernelspec": {
      "name": "python3",
      "display_name": "Python 3"
    },
    "language_info": {
      "name": "python"
    }
  },
  "cells": [
    {
      "cell_type": "markdown",
      "metadata": {
        "id": "view-in-github",
        "colab_type": "text"
      },
      "source": [
        "<a href=\"https://colab.research.google.com/github/japadenikita/Python/blob/main/Arguments_Parameter.ipynb\" target=\"_parent\"><img src=\"https://colab.research.google.com/assets/colab-badge.svg\" alt=\"Open In Colab\"/></a>"
      ]
    },
    {
      "cell_type": "markdown",
      "source": [
        "Sum of numbers using positional argument"
      ],
      "metadata": {
        "id": "ZJpIvU2TmRrA"
      }
    },
    {
      "cell_type": "code",
      "source": [
        "from ast import arguments\n",
        "def clculate_sum(a,b,c):\n",
        "          Sum= a+b+c\n",
        "          print('the sum of values are',Sum)\n",
        "clculate_sum(10,10,10)"
      ],
      "metadata": {
        "colab": {
          "base_uri": "https://localhost:8080/"
        },
        "id": "gnFh-e91mVCG",
        "outputId": "cd0b6898-2244-4830-b51b-f47ad41de8b2"
      },
      "execution_count": 15,
      "outputs": [
        {
          "output_type": "stream",
          "name": "stdout",
          "text": [
            "the sum of values are 30\n"
          ]
        }
      ]
    },
    {
      "cell_type": "markdown",
      "source": [
        "Sum of number using keyword arguments"
      ],
      "metadata": {
        "id": "VQulkXzBmw5t"
      }
    },
    {
      "cell_type": "code",
      "source": [
        "from ast import arguments\n",
        "def clculate_sum(a,b,c):\n",
        "          Sum= a+b+c\n",
        "          print('the sum of values are',Sum)\n",
        "clculate_sum(a=10,b=10,c=10)"
      ],
      "metadata": {
        "colab": {
          "base_uri": "https://localhost:8080/"
        },
        "id": "gya-fEzCmm1i",
        "outputId": "845b6004-7083-4e9c-9499-523c1425db7d"
      },
      "execution_count": 16,
      "outputs": [
        {
          "output_type": "stream",
          "name": "stdout",
          "text": [
            "the sum of values are 30\n"
          ]
        }
      ]
    },
    {
      "cell_type": "markdown",
      "source": [
        "Sum of number using default value"
      ],
      "metadata": {
        "id": "vQ7tfBWbnIvH"
      }
    },
    {
      "cell_type": "code",
      "source": [
        "from ast import arguments\n",
        "def clculate_sum(a,b,c=10):\n",
        "          Sum= a+b+c\n",
        "          print('the sum of values are',Sum)\n",
        "clculate_sum(a=10,b=10)"
      ],
      "metadata": {
        "colab": {
          "base_uri": "https://localhost:8080/"
        },
        "id": "Ny2t5qcvnQkJ",
        "outputId": "867e3487-c862-4a5f-abd5-78ac740c5be6"
      },
      "execution_count": 18,
      "outputs": [
        {
          "output_type": "stream",
          "name": "stdout",
          "text": [
            "the sum of values are 30\n"
          ]
        }
      ]
    },
    {
      "cell_type": "markdown",
      "source": [
        "Sum of number using variable length argument"
      ],
      "metadata": {
        "id": "DhwEwoZUni9j"
      }
    },
    {
      "cell_type": "code",
      "source": [
        "\n",
        "def sum_of_numbers(*args):\n",
        "    return sum(args)\n",
        "\n",
        "# Example usage\n",
        "result = sum_of_numbers(1, 2, 3, 4, 5)\n",
        "print(result)  # Output: 15"
      ],
      "metadata": {
        "colab": {
          "base_uri": "https://localhost:8080/"
        },
        "id": "Tfh9kSPtnr5v",
        "outputId": "95ec1c53-d088-498d-871e-4edbea53ddde"
      },
      "execution_count": 24,
      "outputs": [
        {
          "output_type": "stream",
          "name": "stdout",
          "text": [
            "15\n"
          ]
        }
      ]
    }
  ]
}