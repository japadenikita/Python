{
  "nbformat": 4,
  "nbformat_minor": 0,
  "metadata": {
    "colab": {
      "provenance": [],
      "authorship_tag": "ABX9TyOwrHfTLATfozJvopMDi2IP",
      "include_colab_link": true
    },
    "kernelspec": {
      "name": "python3",
      "display_name": "Python 3"
    },
    "language_info": {
      "name": "python"
    }
  },
  "cells": [
    {
      "cell_type": "markdown",
      "metadata": {
        "id": "view-in-github",
        "colab_type": "text"
      },
      "source": [
        "<a href=\"https://colab.research.google.com/github/japadenikita/Python/blob/main/SetComprehension.ipynb\" target=\"_parent\"><img src=\"https://colab.research.google.com/assets/colab-badge.svg\" alt=\"Open In Colab\"/></a>"
      ]
    },
    {
      "cell_type": "markdown",
      "source": [
        "Converting lowercase to uppercase in set"
      ],
      "metadata": {
        "id": "xgi1QyJW5d2i"
      }
    },
    {
      "cell_type": "code",
      "source": [
        "Fruit=['apple','banana','cherry']\n",
        "L1={i.upper() for i in Fruit }\n",
        "print(L1)"
      ],
      "metadata": {
        "colab": {
          "base_uri": "https://localhost:8080/"
        },
        "id": "9pG3pI4vP1w0",
        "outputId": "f8a41469-ac65-41fd-aa37-3c5e3cfda2bc"
      },
      "execution_count": 1,
      "outputs": [
        {
          "output_type": "stream",
          "name": "stdout",
          "text": [
            "{'APPLE', 'CHERRY', 'BANANA'}\n"
          ]
        }
      ]
    },
    {
      "cell_type": "markdown",
      "source": [
        "Square of numbers in set using range"
      ],
      "metadata": {
        "id": "TbAZIeuZ5Voy"
      }
    },
    {
      "cell_type": "code",
      "source": [
        "\n",
        "L2={i*i for i in range(1,10) }\n",
        "print(L2)"
      ],
      "metadata": {
        "colab": {
          "base_uri": "https://localhost:8080/"
        },
        "id": "QQe678cGOycX",
        "outputId": "70c8a20a-f121-4667-a058-1ee3c1e720c1"
      },
      "execution_count": 6,
      "outputs": [
        {
          "output_type": "stream",
          "name": "stdout",
          "text": [
            "{64, 1, 4, 36, 9, 16, 49, 81, 25}\n"
          ]
        }
      ]
    },
    {
      "cell_type": "markdown",
      "source": [
        "Cube of number using generator"
      ],
      "metadata": {
        "id": "VpzCJLyf5INk"
      }
    },
    {
      "cell_type": "code",
      "source": [
        "\n",
        "L2=tuple(i**3 for i in range(1,10))\n",
        "print(L2)"
      ],
      "metadata": {
        "colab": {
          "base_uri": "https://localhost:8080/"
        },
        "id": "SqKCg2UMShr_",
        "outputId": "32f49329-8d6f-430e-a5f3-e0646c7a0e7f"
      },
      "execution_count": 7,
      "outputs": [
        {
          "output_type": "stream",
          "name": "stdout",
          "text": [
            "(1, 8, 27, 64, 125, 216, 343, 512, 729)\n"
          ]
        }
      ]
    }
  ]
}