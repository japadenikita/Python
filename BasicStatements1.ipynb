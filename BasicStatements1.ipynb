{
  "nbformat": 4,
  "nbformat_minor": 0,
  "metadata": {
    "colab": {
      "provenance": [],
      "authorship_tag": "ABX9TyO368mIMdGe5NSGNcws861U",
      "include_colab_link": true
    },
    "kernelspec": {
      "name": "python3",
      "display_name": "Python 3"
    },
    "language_info": {
      "name": "python"
    }
  },
  "cells": [
    {
      "cell_type": "markdown",
      "metadata": {
        "id": "view-in-github",
        "colab_type": "text"
      },
      "source": [
        "<a href=\"https://colab.research.google.com/github/japadenikita/Python/blob/main/BasicStatements1.ipynb\" target=\"_parent\"><img src=\"https://colab.research.google.com/assets/colab-badge.svg\" alt=\"Open In Colab\"/></a>"
      ]
    },
    {
      "cell_type": "code",
      "execution_count": null,
      "metadata": {
        "colab": {
          "base_uri": "https://localhost:8080/"
        },
        "id": "cF_IWCfLgzdW",
        "outputId": "0b0f52cf-f207-4e62-a919-e6df569b8247"
      },
      "outputs": [
        {
          "output_type": "stream",
          "name": "stdout",
          "text": [
            "[45, 56, 78, 91]\n"
          ]
        }
      ],
      "source": [
        "Marks =[45,56,78,91]\n",
        "print(Marks)"
      ]
    },
    {
      "cell_type": "code",
      "source": [
        "Marks.append(24)\n",
        "print(Marks)"
      ],
      "metadata": {
        "colab": {
          "base_uri": "https://localhost:8080/"
        },
        "id": "2kqFmK2ShOMW",
        "outputId": "5234bb56-42db-4fd6-adff-ce5b1ef7803a"
      },
      "execution_count": null,
      "outputs": [
        {
          "output_type": "stream",
          "name": "stdout",
          "text": [
            "[45, 56, 78, 91, 24, 24, 24]\n"
          ]
        }
      ]
    },
    {
      "cell_type": "code",
      "source": [
        "Marks.insert(3,34)"
      ],
      "metadata": {
        "id": "eXnRmp2_hnLy"
      },
      "execution_count": null,
      "outputs": []
    },
    {
      "cell_type": "code",
      "source": [
        "print(Marks)"
      ],
      "metadata": {
        "colab": {
          "base_uri": "https://localhost:8080/"
        },
        "id": "n9jzTYSRh9cO",
        "outputId": "4f0dc453-56f1-4524-b718-19ba4d8fa511"
      },
      "execution_count": null,
      "outputs": [
        {
          "output_type": "stream",
          "name": "stdout",
          "text": [
            "[45, 56, 78, 34, 91, 24, 24, 24]\n"
          ]
        }
      ]
    },
    {
      "cell_type": "code",
      "source": [
        "Marks.remove(24)\n",
        "print(Marks)"
      ],
      "metadata": {
        "colab": {
          "base_uri": "https://localhost:8080/"
        },
        "id": "zrc-cLD1iFYV",
        "outputId": "b0829d04-e20c-40cd-f118-f351acd70be3"
      },
      "execution_count": null,
      "outputs": [
        {
          "output_type": "stream",
          "name": "stdout",
          "text": [
            "[45, 56, 78, 34, 91, 24, 24]\n"
          ]
        }
      ]
    },
    {
      "cell_type": "code",
      "source": [
        "Marks.pop(6)\n",
        "print(Marks)"
      ],
      "metadata": {
        "colab": {
          "base_uri": "https://localhost:8080/"
        },
        "id": "xtikRfqsiQAn",
        "outputId": "9c8a895b-3138-4038-ca69-66c78b03c7cf"
      },
      "execution_count": null,
      "outputs": [
        {
          "output_type": "stream",
          "name": "stdout",
          "text": [
            "[45, 56, 78, 34, 91, 24]\n"
          ]
        }
      ]
    },
    {
      "cell_type": "code",
      "source": [
        "print('apple','cherry','banana',sep=',')"
      ],
      "metadata": {
        "colab": {
          "base_uri": "https://localhost:8080/"
        },
        "id": "e4LBNzjqkuIk",
        "outputId": "ed899a13-fea4-487e-ccda-e6992669a96c"
      },
      "execution_count": 2,
      "outputs": [
        {
          "output_type": "stream",
          "name": "stdout",
          "text": [
            "apple,cherry,banana\n"
          ]
        }
      ]
    },
    {
      "cell_type": "code",
      "source": [
        "print('22','08','2024',sep='-')"
      ],
      "metadata": {
        "colab": {
          "base_uri": "https://localhost:8080/"
        },
        "id": "EV1AjNq2lMH-",
        "outputId": "8643e0e8-ef0e-4a77-f142-7a2fd0ccae14"
      },
      "execution_count": 5,
      "outputs": [
        {
          "output_type": "stream",
          "name": "stdout",
          "text": [
            "22-08-2024\n"
          ]
        }
      ]
    },
    {
      "cell_type": "code",
      "source": [
        "print('hello',end=' ')\n",
        "print('world')"
      ],
      "metadata": {
        "colab": {
          "base_uri": "https://localhost:8080/"
        },
        "id": "trrbEuo8lsu8",
        "outputId": "1fa4c920-8500-4390-c615-f7f83e26af06"
      },
      "execution_count": 7,
      "outputs": [
        {
          "output_type": "stream",
          "name": "stdout",
          "text": [
            "hello world\n"
          ]
        }
      ]
    },
    {
      "cell_type": "code",
      "source": [
        "print('Loading',end='......')\n",
        "print('please wait')"
      ],
      "metadata": {
        "colab": {
          "base_uri": "https://localhost:8080/"
        },
        "id": "E65Iy0XimUAa",
        "outputId": "2d99b915-b8f6-407a-9cb4-a15f51b9fe4b"
      },
      "execution_count": 10,
      "outputs": [
        {
          "output_type": "stream",
          "name": "stdout",
          "text": [
            "Loading......please wait\n"
          ]
        }
      ]
    },
    {
      "cell_type": "code",
      "source": [
        "Fruits=['apple','banana','cherry']\n",
        "print(*Fruits,sep='|')"
      ],
      "metadata": {
        "colab": {
          "base_uri": "https://localhost:8080/"
        },
        "id": "E-x45raMnZRf",
        "outputId": "eaecb264-bab0-4373-ece8-e2c8d28e96b7"
      },
      "execution_count": 19,
      "outputs": [
        {
          "output_type": "stream",
          "name": "stdout",
          "text": [
            "apple|banana|cherry\n"
          ]
        }
      ]
    },
    {
      "cell_type": "code",
      "source": [
        "temp=int(input('enter the temperature here: '))\n",
        "if temp <32:\n",
        "        print('its freezing outside')\n",
        "elif temp <=50:\n",
        "        print('its quite cold outside')\n",
        "elif temp <=70:\n",
        "        print('its quite cold outside')\n",
        "elif temp <=80:\n",
        "        print('the weather is nice')\n",
        "elif temp <=85:\n",
        "        print('its warm')\n",
        "else:\n",
        "        print('its not')"
      ],
      "metadata": {
        "id": "AFirQcnG1Z6Y"
      },
      "execution_count": null,
      "outputs": []
    }
  ]
}