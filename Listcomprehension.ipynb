{
  "nbformat": 4,
  "nbformat_minor": 0,
  "metadata": {
    "colab": {
      "provenance": [],
      "authorship_tag": "ABX9TyPP84YfJ5d/NPI8fG0i/s7q",
      "include_colab_link": true
    },
    "kernelspec": {
      "name": "python3",
      "display_name": "Python 3"
    },
    "language_info": {
      "name": "python"
    }
  },
  "cells": [
    {
      "cell_type": "markdown",
      "metadata": {
        "id": "view-in-github",
        "colab_type": "text"
      },
      "source": [
        "<a href=\"https://colab.research.google.com/github/japadenikita/Python/blob/main/Listcomprehension.ipynb\" target=\"_parent\"><img src=\"https://colab.research.google.com/assets/colab-badge.svg\" alt=\"Open In Colab\"/></a>"
      ]
    },
    {
      "cell_type": "code",
      "execution_count": 10,
      "metadata": {
        "colab": {
          "base_uri": "https://localhost:8080/"
        },
        "id": "q6Xk1Us1FcJy",
        "outputId": "f31d704d-f449-484b-9911-5dd78d994b99"
      },
      "outputs": [
        {
          "output_type": "stream",
          "name": "stdout",
          "text": [
            "[3, 5, 7, 9]\n"
          ]
        }
      ],
      "source": [
        "L1[2,3,4,5,6,7,8,9]\n",
        "L2= list(filter(lambda x:x%2!=0,L1))\n",
        "print(L2)"
      ]
    },
    {
      "cell_type": "code",
      "source": [
        "Fruit=['apple','banana','cherry']\n",
        "L1=[i.upper() for i in Fruit ]\n",
        "print(L1)"
      ],
      "metadata": {
        "colab": {
          "base_uri": "https://localhost:8080/"
        },
        "id": "9pG3pI4vP1w0",
        "outputId": "72014178-e257-485d-e1ea-a1c501eeb384"
      },
      "execution_count": 13,
      "outputs": [
        {
          "output_type": "stream",
          "name": "stdout",
          "text": [
            "['APPLE', 'BANANA', 'CHERRY']\n"
          ]
        }
      ]
    },
    {
      "cell_type": "code",
      "source": [
        "L1=[1,2,3,4]\n",
        "L2=[i*i for i in L1 ]\n",
        "print(L2)"
      ],
      "metadata": {
        "colab": {
          "base_uri": "https://localhost:8080/"
        },
        "id": "QQe678cGOycX",
        "outputId": "c8c6ba13-1832-4373-ffed-2d344724c9ac"
      },
      "execution_count": 14,
      "outputs": [
        {
          "output_type": "stream",
          "name": "stdout",
          "text": [
            "[1, 4, 9, 16]\n"
          ]
        }
      ]
    },
    {
      "cell_type": "code",
      "source": [
        "Fruit=['apple','banana','cherry']\n",
        "L1=[len(i) for i in Fruit]\n",
        "print(L1)\n",
        "Dic_compre={key:value for(key,value) in zip(Fruit,L1)}\n",
        "print(Dic_compre)"
      ],
      "metadata": {
        "colab": {
          "base_uri": "https://localhost:8080/"
        },
        "id": "6S6a6s4lTdw4",
        "outputId": "b18ef16e-4da8-4f0e-8edd-ba151e4f2211"
      },
      "execution_count": 27,
      "outputs": [
        {
          "output_type": "stream",
          "name": "stdout",
          "text": [
            "[5, 6, 6]\n",
            "{'apple': 5, 'banana': 6, 'cherry': 6}\n"
          ]
        }
      ]
    },
    {
      "cell_type": "code",
      "source": [
        "L1=[2,3,4,5,6,7,8,9]\n",
        "L2=[i*i*i for i in L1]\n",
        "print(L2)"
      ],
      "metadata": {
        "colab": {
          "base_uri": "https://localhost:8080/"
        },
        "id": "SqKCg2UMShr_",
        "outputId": "269135e4-2ee1-4850-c655-3ec9cd9cd7d8"
      },
      "execution_count": 17,
      "outputs": [
        {
          "output_type": "stream",
          "name": "stdout",
          "text": [
            "[8, 27, 64, 125, 216, 343, 512, 729]\n"
          ]
        }
      ]
    }
  ]
}