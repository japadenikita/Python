{
  "nbformat": 4,
  "nbformat_minor": 0,
  "metadata": {
    "colab": {
      "provenance": [],
      "authorship_tag": "ABX9TyPeO/0liawzrmI0rolpQsFc",
      "include_colab_link": true
    },
    "kernelspec": {
      "name": "python3",
      "display_name": "Python 3"
    },
    "language_info": {
      "name": "python"
    }
  },
  "cells": [
    {
      "cell_type": "markdown",
      "metadata": {
        "id": "view-in-github",
        "colab_type": "text"
      },
      "source": [
        "<a href=\"https://colab.research.google.com/github/japadenikita/Python/blob/main/BasicStatements.ipynb\" target=\"_parent\"><img src=\"https://colab.research.google.com/assets/colab-badge.svg\" alt=\"Open In Colab\"/></a>"
      ]
    },
    {
      "cell_type": "code",
      "execution_count": 8,
      "metadata": {
        "colab": {
          "base_uri": "https://localhost:8080/"
        },
        "id": "cF_IWCfLgzdW",
        "outputId": "edd5cb72-efe2-4c8b-e432-6c2ecc8b1ec6"
      },
      "outputs": [
        {
          "output_type": "stream",
          "name": "stdout",
          "text": [
            "[45, 56, 78, 91]\n"
          ]
        }
      ],
      "source": [
        "Marks =[45,56,78,91]\n",
        "print(Marks)"
      ]
    },
    {
      "cell_type": "markdown",
      "source": [
        "List operations"
      ],
      "metadata": {
        "id": "cVWA6Kzr8avp"
      }
    },
    {
      "cell_type": "code",
      "source": [
        "Marks.append(24)\n",
        "print(Marks)"
      ],
      "metadata": {
        "colab": {
          "base_uri": "https://localhost:8080/"
        },
        "id": "2kqFmK2ShOMW",
        "outputId": "88a9e254-096f-4781-8410-ec726313109d"
      },
      "execution_count": 9,
      "outputs": [
        {
          "output_type": "stream",
          "name": "stdout",
          "text": [
            "[45, 56, 78, 91, 24]\n"
          ]
        }
      ]
    },
    {
      "cell_type": "code",
      "source": [
        "Marks.insert(3,34)"
      ],
      "metadata": {
        "id": "eXnRmp2_hnLy"
      },
      "execution_count": 10,
      "outputs": []
    },
    {
      "cell_type": "code",
      "source": [
        "print(Marks)"
      ],
      "metadata": {
        "colab": {
          "base_uri": "https://localhost:8080/"
        },
        "id": "n9jzTYSRh9cO",
        "outputId": "cbe843a8-5018-4da9-e30c-367ade89b3a3"
      },
      "execution_count": 11,
      "outputs": [
        {
          "output_type": "stream",
          "name": "stdout",
          "text": [
            "[45, 56, 78, 34, 91, 24]\n"
          ]
        }
      ]
    },
    {
      "cell_type": "code",
      "source": [
        "Marks.remove(24)\n",
        "print(Marks)"
      ],
      "metadata": {
        "colab": {
          "base_uri": "https://localhost:8080/"
        },
        "id": "zrc-cLD1iFYV",
        "outputId": "97a3d9be-e08c-4bad-e72d-b85d2b8c0715"
      },
      "execution_count": 12,
      "outputs": [
        {
          "output_type": "stream",
          "name": "stdout",
          "text": [
            "[45, 56, 78, 34, 91]\n"
          ]
        }
      ]
    },
    {
      "cell_type": "code",
      "source": [
        "Marks.pop(3)\n",
        "print(Marks)"
      ],
      "metadata": {
        "colab": {
          "base_uri": "https://localhost:8080/"
        },
        "id": "xtikRfqsiQAn",
        "outputId": "e4deb4eb-a71a-4cb1-f999-2db3b89bc9f7"
      },
      "execution_count": 14,
      "outputs": [
        {
          "output_type": "stream",
          "name": "stdout",
          "text": [
            "[45, 56, 78, 91]\n"
          ]
        }
      ]
    },
    {
      "cell_type": "markdown",
      "source": [
        "Input Output Statements"
      ],
      "metadata": {
        "id": "pvMSbaim8tqP"
      }
    },
    {
      "cell_type": "code",
      "source": [
        "print('apple','cherry','banana',sep=',')"
      ],
      "metadata": {
        "colab": {
          "base_uri": "https://localhost:8080/"
        },
        "id": "e4LBNzjqkuIk",
        "outputId": "ed899a13-fea4-487e-ccda-e6992669a96c"
      },
      "execution_count": null,
      "outputs": [
        {
          "output_type": "stream",
          "name": "stdout",
          "text": [
            "apple,cherry,banana\n"
          ]
        }
      ]
    },
    {
      "cell_type": "code",
      "source": [
        "print('22','08','2024',sep='-')"
      ],
      "metadata": {
        "colab": {
          "base_uri": "https://localhost:8080/"
        },
        "id": "EV1AjNq2lMH-",
        "outputId": "8643e0e8-ef0e-4a77-f142-7a2fd0ccae14"
      },
      "execution_count": null,
      "outputs": [
        {
          "output_type": "stream",
          "name": "stdout",
          "text": [
            "22-08-2024\n"
          ]
        }
      ]
    },
    {
      "cell_type": "code",
      "source": [
        "print('hello',end=' ')\n",
        "print('world')"
      ],
      "metadata": {
        "colab": {
          "base_uri": "https://localhost:8080/"
        },
        "id": "trrbEuo8lsu8",
        "outputId": "1fa4c920-8500-4390-c615-f7f83e26af06"
      },
      "execution_count": null,
      "outputs": [
        {
          "output_type": "stream",
          "name": "stdout",
          "text": [
            "hello world\n"
          ]
        }
      ]
    },
    {
      "cell_type": "code",
      "source": [
        "print('Loading',end='......')\n",
        "print('please wait')"
      ],
      "metadata": {
        "colab": {
          "base_uri": "https://localhost:8080/"
        },
        "id": "E65Iy0XimUAa",
        "outputId": "2d99b915-b8f6-407a-9cb4-a15f51b9fe4b"
      },
      "execution_count": null,
      "outputs": [
        {
          "output_type": "stream",
          "name": "stdout",
          "text": [
            "Loading......please wait\n"
          ]
        }
      ]
    },
    {
      "cell_type": "code",
      "source": [
        "Fruits=['apple','banana','cherry']\n",
        "print(*Fruits,sep='|')"
      ],
      "metadata": {
        "colab": {
          "base_uri": "https://localhost:8080/"
        },
        "id": "E-x45raMnZRf",
        "outputId": "eaecb264-bab0-4373-ece8-e2c8d28e96b7"
      },
      "execution_count": null,
      "outputs": [
        {
          "output_type": "stream",
          "name": "stdout",
          "text": [
            "apple|banana|cherry\n"
          ]
        }
      ]
    },
    {
      "cell_type": "markdown",
      "source": [
        "\n",
        "Conditional Statement\n",
        "If-elif-statement"
      ],
      "metadata": {
        "id": "4k-lMqk9854X"
      }
    },
    {
      "cell_type": "code",
      "source": [
        "temp=int(input('enter the temperature here: '))\n",
        "if temp <32:\n",
        "        print('its freezing outside')\n",
        "elif temp <=50:\n",
        "        print('its quite cold outside')\n",
        "elif temp <=70:\n",
        "        print('its quite cold outside')\n",
        "elif temp <=80:\n",
        "        print('the weather is nice')\n",
        "elif temp <=85:\n",
        "        print('its warm')\n",
        "else:\n",
        "        print('its not')"
      ],
      "metadata": {
        "id": "AFirQcnG1Z6Y"
      },
      "execution_count": null,
      "outputs": []
    },
    {
      "cell_type": "markdown",
      "source": [
        "Iterative statement\n",
        "For loop"
      ],
      "metadata": {
        "id": "xSEXmEEn9wi8"
      }
    },
    {
      "cell_type": "code",
      "source": [
        "Fruit=['Apple','Orange','cherry']\n",
        "for i in Fruit:\n",
        "          print(i)"
      ],
      "metadata": {
        "colab": {
          "base_uri": "https://localhost:8080/"
        },
        "id": "kUuxCOrn9NNU",
        "outputId": "1b27ec61-b721-48d5-c1ee-96c951db3c69"
      },
      "execution_count": 4,
      "outputs": [
        {
          "output_type": "stream",
          "name": "stdout",
          "text": [
            "Apple\n",
            "Orange\n",
            "cherry\n"
          ]
        }
      ]
    },
    {
      "cell_type": "code",
      "source": [
        "for i in range(10):\n",
        "         print('hello World')"
      ],
      "metadata": {
        "colab": {
          "base_uri": "https://localhost:8080/"
        },
        "id": "emvGdYFY95CS",
        "outputId": "3e28bafc-ce0d-4e7d-c0c6-9e74b847619a"
      },
      "execution_count": 7,
      "outputs": [
        {
          "output_type": "stream",
          "name": "stdout",
          "text": [
            "hello World\n",
            "hello World\n",
            "hello World\n",
            "hello World\n",
            "hello World\n",
            "hello World\n",
            "hello World\n",
            "hello World\n",
            "hello World\n",
            "hello World\n"
          ]
        }
      ]
    }
  ]
}