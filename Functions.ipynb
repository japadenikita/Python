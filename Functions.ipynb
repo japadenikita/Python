{
  "nbformat": 4,
  "nbformat_minor": 0,
  "metadata": {
    "colab": {
      "provenance": [],
      "authorship_tag": "ABX9TyNgu2Fmc6cxwEic4OIGcsdB",
      "include_colab_link": true
    },
    "kernelspec": {
      "name": "python3",
      "display_name": "Python 3"
    },
    "language_info": {
      "name": "python"
    }
  },
  "cells": [
    {
      "cell_type": "markdown",
      "metadata": {
        "id": "view-in-github",
        "colab_type": "text"
      },
      "source": [
        "<a href=\"https://colab.research.google.com/github/japadenikita/Python/blob/main/Functions.ipynb\" target=\"_parent\"><img src=\"https://colab.research.google.com/assets/colab-badge.svg\" alt=\"Open In Colab\"/></a>"
      ]
    },
    {
      "cell_type": "code",
      "execution_count": 6,
      "metadata": {
        "id": "XqHeb_dPQ5BI"
      },
      "outputs": [],
      "source": [
        "def greet(name):\n",
        "       print('the name is ',name)"
      ]
    },
    {
      "cell_type": "code",
      "source": [
        "greet('Nikita')"
      ],
      "metadata": {
        "colab": {
          "base_uri": "https://localhost:8080/"
        },
        "id": "g35QZrACR_vB",
        "outputId": "94d907ab-c672-47ed-bf63-f4c27f380377"
      },
      "execution_count": 8,
      "outputs": [
        {
          "output_type": "stream",
          "name": "stdout",
          "text": [
            "the name is  Nikita\n"
          ]
        }
      ]
    },
    {
      "cell_type": "markdown",
      "source": [
        "Find the area of Rectangle"
      ],
      "metadata": {
        "id": "HGEEDb1zXQAS"
      }
    },
    {
      "cell_type": "code",
      "source": [
        "def area_of_rectangle(width, height):\n",
        "            return width * height\n",
        "\n",
        "\n",
        "\n",
        "\n",
        "area_of_rectangle(23,45)"
      ],
      "metadata": {
        "colab": {
          "base_uri": "https://localhost:8080/"
        },
        "id": "5ySFxSDfSYtS",
        "outputId": "4a2cf9c9-2482-47bd-a9c2-3ecd791ad2ba"
      },
      "execution_count": 15,
      "outputs": [
        {
          "output_type": "execute_result",
          "data": {
            "text/plain": [
              "1035"
            ]
          },
          "metadata": {},
          "execution_count": 15
        }
      ]
    },
    {
      "cell_type": "markdown",
      "source": [
        "Another way"
      ],
      "metadata": {
        "id": "gsyh0CerXXcT"
      }
    },
    {
      "cell_type": "code",
      "source": [
        "def area_of_rectangle(width, height):\n",
        "             Rectangle=width * height\n",
        "             print(Rectangle)\n",
        "\n",
        "\n",
        "\n",
        "area_of_rectangle(23,45)"
      ],
      "metadata": {
        "colab": {
          "base_uri": "https://localhost:8080/"
        },
        "id": "Q1cMUUm0U7wn",
        "outputId": "f0c90b4b-8204-42d9-e71f-b56841befde4"
      },
      "execution_count": 16,
      "outputs": [
        {
          "output_type": "stream",
          "name": "stdout",
          "text": [
            "1035\n"
          ]
        }
      ]
    },
    {
      "cell_type": "markdown",
      "source": [
        "Display the number is even or odd"
      ],
      "metadata": {
        "id": "xf5ZCcpTXZ9-"
      }
    },
    {
      "cell_type": "code",
      "source": [
        "def even(number):\n",
        "     if number%2==0:\n",
        "         print('even number')\n",
        "     else:\n",
        "         print('odd number')\n",
        "even(77)"
      ],
      "metadata": {
        "colab": {
          "base_uri": "https://localhost:8080/"
        },
        "id": "PciY4KFEVxi7",
        "outputId": "6660c5dc-7d87-46b6-ce45-e3435a93abfd"
      },
      "execution_count": 21,
      "outputs": [
        {
          "output_type": "stream",
          "name": "stdout",
          "text": [
            "odd number\n"
          ]
        }
      ]
    }
  ]
}